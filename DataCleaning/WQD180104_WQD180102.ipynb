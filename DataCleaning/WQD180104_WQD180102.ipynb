{
 "cells": [
  {
   "cell_type": "code",
   "execution_count": 1,
   "metadata": {},
   "outputs": [],
   "source": [
    "# Import library\n",
    "import pandas as pd\n",
    "import numpy as np\n",
    "import json\n",
    "import datetime\n",
    "import nltk\n",
    "from nltk.corpus import stopwords\n",
    "from nltk.tokenize import word_tokenize\n",
    "import string\n",
    "import re"
   ]
  },
  {
   "cell_type": "code",
   "execution_count": 21,
   "metadata": {},
   "outputs": [],
   "source": [
    "# # Load json data from file\n",
    "# data = []\n",
    "# with open('dataset/sgcircuitbreaker.json', encoding=\"utf8\") as f:\n",
    "#     for line in f:\n",
    "#         data.append(json.loads(line))\n",
    "        \n",
    "# df = pd.DataFrame(data)"
   ]
  },
  {
   "cell_type": "code",
   "execution_count": 2,
   "metadata": {
    "scrolled": true
   },
   "outputs": [
    {
     "data": {
      "text/html": [
       "<div>\n",
       "<style scoped>\n",
       "    .dataframe tbody tr th:only-of-type {\n",
       "        vertical-align: middle;\n",
       "    }\n",
       "\n",
       "    .dataframe tbody tr th {\n",
       "        vertical-align: top;\n",
       "    }\n",
       "\n",
       "    .dataframe thead th {\n",
       "        text-align: right;\n",
       "    }\n",
       "</style>\n",
       "<table border=\"1\" class=\"dataframe\">\n",
       "  <thead>\n",
       "    <tr style=\"text-align: right;\">\n",
       "      <th></th>\n",
       "      <th>_id</th>\n",
       "      <th>created_at</th>\n",
       "      <th>id</th>\n",
       "      <th>screen_name:</th>\n",
       "      <th>lang</th>\n",
       "      <th>is_quote_status</th>\n",
       "      <th>is_retweet_status</th>\n",
       "      <th>full_text</th>\n",
       "      <th>quote_text</th>\n",
       "    </tr>\n",
       "  </thead>\n",
       "  <tbody>\n",
       "    <tr>\n",
       "      <td>0</td>\n",
       "      <td>{'$oid': '5eae613c65da26ed42446310'}</td>\n",
       "      <td>{'$date': {'$numberLong': '1588486453000'}}</td>\n",
       "      <td>{'$numberLong': '1256829397778132992'}</td>\n",
       "      <td>Ashy_roz</td>\n",
       "      <td>en</td>\n",
       "      <td>True</td>\n",
       "      <td>False</td>\n",
       "      <td>Morning Peepos @MdAnde1 @SyiqinKmz</td>\n",
       "      <td>Good morning...\\n#Singapore \\n#circuitbreaker ...</td>\n",
       "    </tr>\n",
       "    <tr>\n",
       "      <td>1</td>\n",
       "      <td>{'$oid': '5eae614b65da26ed42446311'}</td>\n",
       "      <td>{'$date': {'$numberLong': '1588486468000'}}</td>\n",
       "      <td>{'$numberLong': '1256829460193689601'}</td>\n",
       "      <td>harshdass11</td>\n",
       "      <td>en</td>\n",
       "      <td>False</td>\n",
       "      <td>False</td>\n",
       "      <td>There is proof inðŸ“— quraan sharif, who has c...</td>\n",
       "      <td></td>\n",
       "    </tr>\n",
       "    <tr>\n",
       "      <td>2</td>\n",
       "      <td>{'$oid': '5eae616665da26ed42446312'}</td>\n",
       "      <td>{'$date': {'$numberLong': '1588486496000'}}</td>\n",
       "      <td>{'$numberLong': '1256829574723383296'}</td>\n",
       "      <td>harshdass11</td>\n",
       "      <td>en</td>\n",
       "      <td>False</td>\n",
       "      <td>True</td>\n",
       "      <td>Is creatorðŸ¤´ of all the universeðŸŒ�\\nAlmigh...</td>\n",
       "      <td></td>\n",
       "    </tr>\n",
       "    <tr>\n",
       "      <td>3</td>\n",
       "      <td>{'$oid': '5eae616a65da26ed42446313'}</td>\n",
       "      <td>{'$date': {'$numberLong': '1588486500000'}}</td>\n",
       "      <td>{'$numberLong': '1256829592066801665'}</td>\n",
       "      <td>staciechan</td>\n",
       "      <td>en</td>\n",
       "      <td>False</td>\n",
       "      <td>False</td>\n",
       "      <td>Day 26 #Covid19 #circuitbreakersg: unleashing ...</td>\n",
       "      <td></td>\n",
       "    </tr>\n",
       "    <tr>\n",
       "      <td>4</td>\n",
       "      <td>{'$oid': '5eae618465da26ed42446314'}</td>\n",
       "      <td>{'$date': {'$numberLong': '1588486525000'}}</td>\n",
       "      <td>{'$numberLong': '1256829698048274434'}</td>\n",
       "      <td>SStretchsg</td>\n",
       "      <td>en</td>\n",
       "      <td>False</td>\n",
       "      <td>False</td>\n",
       "      <td>#ð�˜¿ð�™šð�™¡ð�™žð�™«ð�™šð�™§ð�™®ð�™�ð�™žð�™™ð...</td>\n",
       "      <td></td>\n",
       "    </tr>\n",
       "  </tbody>\n",
       "</table>\n",
       "</div>"
      ],
      "text/plain": [
       "                                    _id  \\\n",
       "0  {'$oid': '5eae613c65da26ed42446310'}   \n",
       "1  {'$oid': '5eae614b65da26ed42446311'}   \n",
       "2  {'$oid': '5eae616665da26ed42446312'}   \n",
       "3  {'$oid': '5eae616a65da26ed42446313'}   \n",
       "4  {'$oid': '5eae618465da26ed42446314'}   \n",
       "\n",
       "                                    created_at  \\\n",
       "0  {'$date': {'$numberLong': '1588486453000'}}   \n",
       "1  {'$date': {'$numberLong': '1588486468000'}}   \n",
       "2  {'$date': {'$numberLong': '1588486496000'}}   \n",
       "3  {'$date': {'$numberLong': '1588486500000'}}   \n",
       "4  {'$date': {'$numberLong': '1588486525000'}}   \n",
       "\n",
       "                                       id screen_name: lang  is_quote_status  \\\n",
       "0  {'$numberLong': '1256829397778132992'}     Ashy_roz   en             True   \n",
       "1  {'$numberLong': '1256829460193689601'}  harshdass11   en            False   \n",
       "2  {'$numberLong': '1256829574723383296'}  harshdass11   en            False   \n",
       "3  {'$numberLong': '1256829592066801665'}   staciechan   en            False   \n",
       "4  {'$numberLong': '1256829698048274434'}   SStretchsg   en            False   \n",
       "\n",
       "   is_retweet_status                                          full_text  \\\n",
       "0              False                 Morning Peepos @MdAnde1 @SyiqinKmz   \n",
       "1              False  There is proof inðŸ“— quraan sharif, who has c...   \n",
       "2               True  Is creatorðŸ¤´ of all the universeðŸŒ�\\nAlmigh...   \n",
       "3              False  Day 26 #Covid19 #circuitbreakersg: unleashing ...   \n",
       "4              False  #ð�˜¿ð�™šð�™¡ð�™žð�™«ð�™šð�™§ð�™®ð�™�ð�™žð�™™ð...   \n",
       "\n",
       "                                          quote_text  \n",
       "0  Good morning...\\n#Singapore \\n#circuitbreaker ...  \n",
       "1                                                     \n",
       "2                                                     \n",
       "3                                                     \n",
       "4                                                     "
      ]
     },
     "execution_count": 2,
     "metadata": {},
     "output_type": "execute_result"
    }
   ],
   "source": [
    "# Loan json data into dataframe\n",
    "df = pd.read_json(\"C:/Users/ngwei/Desktop/sgcircuitbreaker.json\", lines=True)\n",
    "df.head()"
   ]
  },
  {
   "cell_type": "markdown",
   "metadata": {},
   "source": [
    "### Things to clean:\n",
    "- Checking any missing/ duplicated value\n",
    "- Extract data from json object inside cell for columns `_id`, `created_at`, `id`\n",
    "- Rename columns\n",
    "\n",
    "### Text cleaning:\n",
    "- For `full_text`, `quote_text` column, text preprocessing is required for sentiment analysis\n",
    "- Convert to lowercase, remove noise and stopword, tokenization"
   ]
  },
  {
   "cell_type": "markdown",
   "metadata": {},
   "source": [
    "Before data cleaning, create another copy of dataframe."
   ]
  },
  {
   "cell_type": "code",
   "execution_count": 3,
   "metadata": {},
   "outputs": [],
   "source": [
    "df_clean = df.copy()"
   ]
  },
  {
   "cell_type": "markdown",
   "metadata": {},
   "source": [
    "#### Checking missing value"
   ]
  },
  {
   "cell_type": "code",
   "execution_count": 4,
   "metadata": {},
   "outputs": [
    {
     "data": {
      "text/plain": [
       "_id                  0\n",
       "created_at           0\n",
       "id                   0\n",
       "screen_name:         0\n",
       "lang                 0\n",
       "is_quote_status      0\n",
       "is_retweet_status    0\n",
       "full_text            0\n",
       "quote_text           0\n",
       "dtype: int64"
      ]
     },
     "execution_count": 4,
     "metadata": {},
     "output_type": "execute_result"
    }
   ],
   "source": [
    "# Checking missing value\n",
    "df_clean.isnull().sum()"
   ]
  },
  {
   "cell_type": "markdown",
   "metadata": {},
   "source": [
    "No missing value is found."
   ]
  },
  {
   "cell_type": "markdown",
   "metadata": {},
   "source": [
    "#### Extract json data"
   ]
  },
  {
   "cell_type": "markdown",
   "metadata": {},
   "source": [
    "May Refer these links to see how to extract json data\n",
    "- [w3school](https://www.w3schools.com/python/python_json.asp)\n",
    "- [Stack Overflow](https://stackoverflow.com/questions/42354001/python-json-object-must-be-str-bytes-or-bytearray-not-dict/42354033)"
   ]
  },
  {
   "cell_type": "code",
   "execution_count": 5,
   "metadata": {},
   "outputs": [],
   "source": [
    "# Extract json object from _id column\n",
    "df_clean['_id'] = df_clean['_id'].apply(lambda x: json.loads(json.dumps(x))['$oid'])"
   ]
  },
  {
   "cell_type": "code",
   "execution_count": 6,
   "metadata": {},
   "outputs": [],
   "source": [
    "# Extract json object from id column\n",
    "df_clean['id'] = df_clean['id'].apply(lambda x: json.loads(json.dumps(x))['$numberLong'])"
   ]
  },
  {
   "cell_type": "code",
   "execution_count": 7,
   "metadata": {},
   "outputs": [],
   "source": [
    "# Extract json object from id column\n",
    "df_clean['created_at'] = df_clean['created_at'].apply(lambda x: json.loads(json.dumps(x))['$date']['$numberLong'])"
   ]
  },
  {
   "cell_type": "code",
   "execution_count": 8,
   "metadata": {
    "scrolled": false
   },
   "outputs": [
    {
     "data": {
      "text/html": [
       "<div>\n",
       "<style scoped>\n",
       "    .dataframe tbody tr th:only-of-type {\n",
       "        vertical-align: middle;\n",
       "    }\n",
       "\n",
       "    .dataframe tbody tr th {\n",
       "        vertical-align: top;\n",
       "    }\n",
       "\n",
       "    .dataframe thead th {\n",
       "        text-align: right;\n",
       "    }\n",
       "</style>\n",
       "<table border=\"1\" class=\"dataframe\">\n",
       "  <thead>\n",
       "    <tr style=\"text-align: right;\">\n",
       "      <th></th>\n",
       "      <th>_id</th>\n",
       "      <th>created_at</th>\n",
       "      <th>id</th>\n",
       "      <th>screen_name:</th>\n",
       "      <th>lang</th>\n",
       "      <th>is_quote_status</th>\n",
       "      <th>is_retweet_status</th>\n",
       "      <th>full_text</th>\n",
       "      <th>quote_text</th>\n",
       "    </tr>\n",
       "  </thead>\n",
       "  <tbody>\n",
       "    <tr>\n",
       "      <td>7965</td>\n",
       "      <td>5eb2b972b194fb30558338c3</td>\n",
       "      <td>1588771179000</td>\n",
       "      <td>1258023625115840512</td>\n",
       "      <td>pochainvestment</td>\n",
       "      <td>en</td>\n",
       "      <td>False</td>\n",
       "      <td>True</td>\n",
       "      <td>From ironing boards to mahjong tables, #Capita...</td>\n",
       "      <td></td>\n",
       "    </tr>\n",
       "    <tr>\n",
       "      <td>4741</td>\n",
       "      <td>5eb0ebe0b194fb3055832c2b</td>\n",
       "      <td>1588653018000</td>\n",
       "      <td>1257528019280736256</td>\n",
       "      <td>jursit</td>\n",
       "      <td>en</td>\n",
       "      <td>False</td>\n",
       "      <td>True</td>\n",
       "      <td>Too many judgements everywhere when it comes t...</td>\n",
       "      <td></td>\n",
       "    </tr>\n",
       "    <tr>\n",
       "      <td>8971</td>\n",
       "      <td>5eb42b25d16fd09c375d5ece</td>\n",
       "      <td>1588865822000</td>\n",
       "      <td>1258420584393867265</td>\n",
       "      <td>NacaeliY</td>\n",
       "      <td>es</td>\n",
       "      <td>False</td>\n",
       "      <td>False</td>\n",
       "      <td>Nacaeli Corporate Promotions https://t.co/swfQ...</td>\n",
       "      <td></td>\n",
       "    </tr>\n",
       "    <tr>\n",
       "      <td>961</td>\n",
       "      <td>5eaec7cdb194fb3055831d67</td>\n",
       "      <td>1588512710000</td>\n",
       "      <td>1256939527307837441</td>\n",
       "      <td>GwnQX1bKHQw9aLy</td>\n",
       "      <td>zh</td>\n",
       "      <td>False</td>\n",
       "      <td>False</td>\n",
       "      <td>#ç‹—å¥´ #ç”·m #ä¸»å¥´ #cbçŠ¬ \\næœ‰ä¸»äººæœƒæ”¶...</td>\n",
       "      <td></td>\n",
       "    </tr>\n",
       "    <tr>\n",
       "      <td>1428</td>\n",
       "      <td>5eaefea1b194fb3055831f3a</td>\n",
       "      <td>1588526746000</td>\n",
       "      <td>1256998399280246784</td>\n",
       "      <td>__Adrna</td>\n",
       "      <td>in</td>\n",
       "      <td>True</td>\n",
       "      <td>True</td>\n",
       "      <td>Sometimes, you genuinely forgot. Mak aku gi pa...</td>\n",
       "      <td>How come the mall security outside the bakery ...</td>\n",
       "    </tr>\n",
       "    <tr>\n",
       "      <td>4408</td>\n",
       "      <td>5eb0a833b194fb3055832ade</td>\n",
       "      <td>1588635692000</td>\n",
       "      <td>1257455351219326986</td>\n",
       "      <td>Ali08504815</td>\n",
       "      <td>hu</td>\n",
       "      <td>False</td>\n",
       "      <td>True</td>\n",
       "      <td>Ege Ãœniversitesi'ni Ã¶rnek al!\\n@bayaredutr\\n...</td>\n",
       "      <td></td>\n",
       "    </tr>\n",
       "    <tr>\n",
       "      <td>2928</td>\n",
       "      <td>5eb00e89b194fb3055832516</td>\n",
       "      <td>1588596355000</td>\n",
       "      <td>1257290357395484672</td>\n",
       "      <td>sntbmt</td>\n",
       "      <td>en</td>\n",
       "      <td>False</td>\n",
       "      <td>True</td>\n",
       "      <td>One more month. We can do it. #circuitbreaker ...</td>\n",
       "      <td></td>\n",
       "    </tr>\n",
       "    <tr>\n",
       "      <td>6791</td>\n",
       "      <td>5eb19ef3b194fb305583342d</td>\n",
       "      <td>1588698861000</td>\n",
       "      <td>1257720298125869057</td>\n",
       "      <td>BhgtKala</td>\n",
       "      <td>en</td>\n",
       "      <td>False</td>\n",
       "      <td>True</td>\n",
       "      <td>AlcoholðŸ¥‚is so dangerous that it devastatesð...</td>\n",
       "      <td></td>\n",
       "    </tr>\n",
       "    <tr>\n",
       "      <td>47</td>\n",
       "      <td>5eae629765da26ed4244633f</td>\n",
       "      <td>1588486800000</td>\n",
       "      <td>1256830852991860736</td>\n",
       "      <td>irantandspam</td>\n",
       "      <td>en</td>\n",
       "      <td>False</td>\n",
       "      <td>True</td>\n",
       "      <td>Aunty quarantine at home too long is it ? want...</td>\n",
       "      <td></td>\n",
       "    </tr>\n",
       "    <tr>\n",
       "      <td>7292</td>\n",
       "      <td>5eb1e0b3b194fb3055833622</td>\n",
       "      <td>1588715692000</td>\n",
       "      <td>1257790894926954497</td>\n",
       "      <td>marcost29</td>\n",
       "      <td>und</td>\n",
       "      <td>False</td>\n",
       "      <td>False</td>\n",
       "      <td>#SSTV #Hamradio #AmateurRadio #QRP #CW #LowCos...</td>\n",
       "      <td></td>\n",
       "    </tr>\n",
       "  </tbody>\n",
       "</table>\n",
       "</div>"
      ],
      "text/plain": [
       "                           _id     created_at                   id  \\\n",
       "7965  5eb2b972b194fb30558338c3  1588771179000  1258023625115840512   \n",
       "4741  5eb0ebe0b194fb3055832c2b  1588653018000  1257528019280736256   \n",
       "8971  5eb42b25d16fd09c375d5ece  1588865822000  1258420584393867265   \n",
       "961   5eaec7cdb194fb3055831d67  1588512710000  1256939527307837441   \n",
       "1428  5eaefea1b194fb3055831f3a  1588526746000  1256998399280246784   \n",
       "4408  5eb0a833b194fb3055832ade  1588635692000  1257455351219326986   \n",
       "2928  5eb00e89b194fb3055832516  1588596355000  1257290357395484672   \n",
       "6791  5eb19ef3b194fb305583342d  1588698861000  1257720298125869057   \n",
       "47    5eae629765da26ed4244633f  1588486800000  1256830852991860736   \n",
       "7292  5eb1e0b3b194fb3055833622  1588715692000  1257790894926954497   \n",
       "\n",
       "         screen_name: lang  is_quote_status  is_retweet_status  \\\n",
       "7965  pochainvestment   en            False               True   \n",
       "4741           jursit   en            False               True   \n",
       "8971         NacaeliY   es            False              False   \n",
       "961   GwnQX1bKHQw9aLy   zh            False              False   \n",
       "1428          __Adrna   in             True               True   \n",
       "4408      Ali08504815   hu            False               True   \n",
       "2928           sntbmt   en            False               True   \n",
       "6791         BhgtKala   en            False               True   \n",
       "47       irantandspam   en            False               True   \n",
       "7292        marcost29  und            False              False   \n",
       "\n",
       "                                              full_text  \\\n",
       "7965  From ironing boards to mahjong tables, #Capita...   \n",
       "4741  Too many judgements everywhere when it comes t...   \n",
       "8971  Nacaeli Corporate Promotions https://t.co/swfQ...   \n",
       "961   #ç‹—å¥´ #ç”·m #ä¸»å¥´ #cbçŠ¬ \\næœ‰ä¸»äººæœƒæ”¶...   \n",
       "1428  Sometimes, you genuinely forgot. Mak aku gi pa...   \n",
       "4408  Ege Ãœniversitesi'ni Ã¶rnek al!\\n@bayaredutr\\n...   \n",
       "2928  One more month. We can do it. #circuitbreaker ...   \n",
       "6791  AlcoholðŸ¥‚is so dangerous that it devastatesð...   \n",
       "47    Aunty quarantine at home too long is it ? want...   \n",
       "7292  #SSTV #Hamradio #AmateurRadio #QRP #CW #LowCos...   \n",
       "\n",
       "                                             quote_text  \n",
       "7965                                                     \n",
       "4741                                                     \n",
       "8971                                                     \n",
       "961                                                      \n",
       "1428  How come the mall security outside the bakery ...  \n",
       "4408                                                     \n",
       "2928                                                     \n",
       "6791                                                     \n",
       "47                                                       \n",
       "7292                                                     "
      ]
     },
     "execution_count": 8,
     "metadata": {},
     "output_type": "execute_result"
    }
   ],
   "source": [
    "# Check value\n",
    "df_clean.sample(10)"
   ]
  },
  {
   "cell_type": "markdown",
   "metadata": {},
   "source": [
    "#### Checking duplicated value"
   ]
  },
  {
   "cell_type": "code",
   "execution_count": 9,
   "metadata": {},
   "outputs": [
    {
     "data": {
      "text/plain": [
       "0"
      ]
     },
     "execution_count": 9,
     "metadata": {},
     "output_type": "execute_result"
    }
   ],
   "source": [
    "# Checking duplicated value\n",
    "df_clean.duplicated().sum()"
   ]
  },
  {
   "cell_type": "markdown",
   "metadata": {},
   "source": [
    "No duplicate row is found."
   ]
  },
  {
   "cell_type": "markdown",
   "metadata": {},
   "source": [
    "#### Convert Unix timestamp to datetime"
   ]
  },
  {
   "cell_type": "code",
   "execution_count": 10,
   "metadata": {},
   "outputs": [],
   "source": [
    "# Remove last 3 characters '000' from unix string (Should be 10 digits only)\n",
    "# Convert created_at values from object to string first before it can convert to timestamp format\n",
    "df_clean['created_at'] = df_clean['created_at'].apply(lambda x: x[:-3])\n",
    "df_clean['created_at'] = df_clean['created_at'].astype(np.int64)"
   ]
  },
  {
   "cell_type": "code",
   "execution_count": 11,
   "metadata": {},
   "outputs": [],
   "source": [
    "# Convert unix timestamp to datetime format\n",
    "df_clean['created_at'] = df_clean['created_at'].apply(lambda x: datetime.datetime.utcfromtimestamp(x).strftime('%Y-%m-%dT%H:%M:%SZ'))"
   ]
  },
  {
   "cell_type": "code",
   "execution_count": 12,
   "metadata": {},
   "outputs": [],
   "source": [
    "df_clean['created_at'] = pd.to_datetime(df_clean['created_at'])"
   ]
  },
  {
   "cell_type": "markdown",
   "metadata": {},
   "source": [
    "#### Drop Columns\n",
    "`_id` is id from mongo database, thus, it is not required in this project and could be dropped."
   ]
  },
  {
   "cell_type": "code",
   "execution_count": 13,
   "metadata": {},
   "outputs": [],
   "source": [
    "df_clean.drop('_id', axis =1, inplace =True)"
   ]
  },
  {
   "cell_type": "markdown",
   "metadata": {},
   "source": [
    "#### Rename Columns\n",
    "- Change `id` to `user_id`  \n",
    "- Change `screen_name:` to `username`\n",
    "- Change `lang` to `language`"
   ]
  },
  {
   "cell_type": "code",
   "execution_count": 14,
   "metadata": {},
   "outputs": [],
   "source": [
    "df_clean.rename(columns = {'id':'user_id', 'screen_name:':'username', 'lang':'language'}, inplace = True)"
   ]
  },
  {
   "cell_type": "markdown",
   "metadata": {},
   "source": [
    "#### Define Data Cleaning Functions\n",
    "For tweet cleaning, may refer [here](https://towardsdatascience.com/extracting-twitter-data-pre-processing-and-sentiment-analysis-using-python-3-0-7192bd8b47cf)."
   ]
  },
  {
   "cell_type": "code",
   "execution_count": 15,
   "metadata": {},
   "outputs": [],
   "source": [
    "# Convert all characters to lowercase\n",
    "def to_lowercase(text):\n",
    "    text  = text.lower()\n",
    "    return text"
   ]
  },
  {
   "cell_type": "code",
   "execution_count": 16,
   "metadata": {},
   "outputs": [],
   "source": [
    "#Emoji patterns\n",
    "emoji_pattern = re.compile(\"[\"\n",
    "         u\"\\U0001F600-\\U0001F64F\"  # emoticons\n",
    "         u\"\\U0001F300-\\U0001F5FF\"  # symbols & pictographs\n",
    "         u\"\\U0001F680-\\U0001F6FF\"  # transport & map symbols\n",
    "         u\"\\U0001F1E0-\\U0001F1FF\"  # flags (iOS)\n",
    "         u\"\\U00002702-\\U000027B0\"\n",
    "         u\"\\U000024C2-\\U0001F251\"\n",
    "         \"]+\", flags=re.UNICODE)"
   ]
  },
  {
   "cell_type": "code",
   "execution_count": 17,
   "metadata": {},
   "outputs": [],
   "source": [
    "# Remove Emoji\n",
    "def remove_emoji(text):\n",
    "    text = emoji_pattern.sub(r'', text)\n",
    "    return text"
   ]
  },
  {
   "cell_type": "code",
   "execution_count": 18,
   "metadata": {},
   "outputs": [],
   "source": [
    "# Remove Mentions\n",
    "def remove_mention(text):\n",
    "    text = re.sub(r'@[A-Za-z0-9]+', '', text)\n",
    "    return text"
   ]
  },
  {
   "cell_type": "code",
   "execution_count": 19,
   "metadata": {},
   "outputs": [],
   "source": [
    "# Remove Hashtag\n",
    "def remove_hashtag(text):\n",
    "    text = re.sub(r'#\\w+', '', text)\n",
    "    return text"
   ]
  },
  {
   "cell_type": "code",
   "execution_count": 20,
   "metadata": {},
   "outputs": [],
   "source": [
    "# Remove URL\n",
    "def remove_url(text):\n",
    "    text = re.sub(r'\\b(?:(?:https?|ftp)://)?\\w[\\w-]*(?:\\.[\\w-]+)+\\S*', ' ', text)\n",
    "    return text"
   ]
  },
  {
   "cell_type": "code",
   "execution_count": 21,
   "metadata": {},
   "outputs": [],
   "source": [
    "# Replace consecutive non-ASCII characters with a space\n",
    "def replace_nonASCII(text):\n",
    "    text = re.sub(r'[^\\x00-\\x7F]+',' ', text)\n",
    "    return text"
   ]
  },
  {
   "cell_type": "code",
   "execution_count": 22,
   "metadata": {},
   "outputs": [],
   "source": [
    "# Remove punctuation\n",
    "def remove_punct(text):\n",
    "    text  = \"\".join([char for char in text if char not in string.punctuation])\n",
    "    text = re.sub('[0-9]+', '', text)\n",
    "    return text"
   ]
  },
  {
   "cell_type": "code",
   "execution_count": 23,
   "metadata": {},
   "outputs": [],
   "source": [
    "# Remove stopwords\n",
    "stopwordsList = set(stopwords.words('english')) \n",
    "def remove_stopwords(text):\n",
    "    text = [word for word in text if word not in stopwordsList]\n",
    "    return text"
   ]
  },
  {
   "cell_type": "code",
   "execution_count": 24,
   "metadata": {},
   "outputs": [],
   "source": [
    "# Tokenize words\n",
    "def tokenize(text):\n",
    "    word_tokens = word_tokenize(text)\n",
    "    return word_tokens"
   ]
  },
  {
   "cell_type": "code",
   "execution_count": 25,
   "metadata": {},
   "outputs": [],
   "source": [
    "# Combine all the functions\n",
    "def datapreprocessing(review):\n",
    "    \n",
    "    # Convert the text into lowercase\n",
    "    review = to_lowercase(review)\n",
    "    \n",
    "    # Clean tweet\n",
    "    review = remove_mention(review)\n",
    "    review = remove_url(review)\n",
    "    review = remove_hashtag(review)\n",
    "    review = remove_emoji(review)\n",
    "    review = replace_nonASCII(review)\n",
    "        \n",
    "    # Remove punctuation\n",
    "    review = remove_punct(review)\n",
    "    \n",
    "    # Tokenization\n",
    "    review = word_tokenize(review)\n",
    "    \n",
    "    # Remove stopwords\n",
    "    review = remove_stopwords(review)\n",
    "    \n",
    "    #return review\n",
    "    return \" \".join(review)"
   ]
  },
  {
   "cell_type": "markdown",
   "metadata": {},
   "source": [
    "Before text preprocessing, we would like to remain all the text in **English** only."
   ]
  },
  {
   "cell_type": "code",
   "execution_count": 26,
   "metadata": {},
   "outputs": [],
   "source": [
    "df_clean = df_clean.loc[df_clean['language'] == 'en']"
   ]
  },
  {
   "cell_type": "code",
   "execution_count": 27,
   "metadata": {},
   "outputs": [],
   "source": [
    "cols = ['full_text', 'quote_text']\n",
    "\n",
    "for c in cols:\n",
    "    df_clean[c] = df_clean[c].apply(lambda x: datapreprocessing(x))"
   ]
  },
  {
   "cell_type": "code",
   "execution_count": 28,
   "metadata": {},
   "outputs": [
    {
     "data": {
      "text/html": [
       "<div>\n",
       "<style scoped>\n",
       "    .dataframe tbody tr th:only-of-type {\n",
       "        vertical-align: middle;\n",
       "    }\n",
       "\n",
       "    .dataframe tbody tr th {\n",
       "        vertical-align: top;\n",
       "    }\n",
       "\n",
       "    .dataframe thead th {\n",
       "        text-align: right;\n",
       "    }\n",
       "</style>\n",
       "<table border=\"1\" class=\"dataframe\">\n",
       "  <thead>\n",
       "    <tr style=\"text-align: right;\">\n",
       "      <th></th>\n",
       "      <th>created_at</th>\n",
       "      <th>user_id</th>\n",
       "      <th>username</th>\n",
       "      <th>language</th>\n",
       "      <th>is_quote_status</th>\n",
       "      <th>is_retweet_status</th>\n",
       "      <th>full_text</th>\n",
       "      <th>quote_text</th>\n",
       "    </tr>\n",
       "  </thead>\n",
       "  <tbody>\n",
       "    <tr>\n",
       "      <td>6662</td>\n",
       "      <td>2020-05-05 17:05:08+00:00</td>\n",
       "      <td>1257717980848365569</td>\n",
       "      <td>Ahibaran__pal</td>\n",
       "      <td>en</td>\n",
       "      <td>False</td>\n",
       "      <td>True</td>\n",
       "      <td>drinking alcohol sin life drinker never happy cb</td>\n",
       "      <td></td>\n",
       "    </tr>\n",
       "    <tr>\n",
       "      <td>2387</td>\n",
       "      <td>2020-05-04 06:22:56+00:00</td>\n",
       "      <td>1257193975909249031</td>\n",
       "      <td>SStretchsg</td>\n",
       "      <td>en</td>\n",
       "      <td>False</td>\n",
       "      <td>False</td>\n",
       "      <td>week wish dedicate page helping work tirelessl...</td>\n",
       "      <td></td>\n",
       "    </tr>\n",
       "    <tr>\n",
       "      <td>4629</td>\n",
       "      <td>2020-05-05 03:19:35+00:00</td>\n",
       "      <td>1257510226133241857</td>\n",
       "      <td>BrandingInAsia</td>\n",
       "      <td>en</td>\n",
       "      <td>False</td>\n",
       "      <td>False</td>\n",
       "      <td>covid campaign singapore calls people emerge s...</td>\n",
       "      <td></td>\n",
       "    </tr>\n",
       "    <tr>\n",
       "      <td>2427</td>\n",
       "      <td>2020-05-04 06:43:01+00:00</td>\n",
       "      <td>1257199030179782656</td>\n",
       "      <td>Ikhmalll</td>\n",
       "      <td>en</td>\n",
       "      <td>False</td>\n",
       "      <td>True</td>\n",
       "      <td>one month</td>\n",
       "      <td></td>\n",
       "    </tr>\n",
       "    <tr>\n",
       "      <td>6392</td>\n",
       "      <td>2020-05-05 16:11:14+00:00</td>\n",
       "      <td>1257704417567969281</td>\n",
       "      <td>RajuOnkare</td>\n",
       "      <td>en</td>\n",
       "      <td>False</td>\n",
       "      <td>True</td>\n",
       "      <td>alcohol humans drug turns human monster cb</td>\n",
       "      <td></td>\n",
       "    </tr>\n",
       "    <tr>\n",
       "      <td>4553</td>\n",
       "      <td>2020-05-05 02:10:29+00:00</td>\n",
       "      <td>1257492833285500929</td>\n",
       "      <td>nulzzee_</td>\n",
       "      <td>en</td>\n",
       "      <td>False</td>\n",
       "      <td>True</td>\n",
       "      <td>one month</td>\n",
       "      <td></td>\n",
       "    </tr>\n",
       "    <tr>\n",
       "      <td>3461</td>\n",
       "      <td>2020-05-04 15:43:39+00:00</td>\n",
       "      <td>1257335085763829760</td>\n",
       "      <td>dasi_santosh</td>\n",
       "      <td>en</td>\n",
       "      <td>False</td>\n",
       "      <td>True</td>\n",
       "      <td>brahma vishnu mahesh immortal also birth death...</td>\n",
       "      <td></td>\n",
       "    </tr>\n",
       "    <tr>\n",
       "      <td>6066</td>\n",
       "      <td>2020-05-05 15:20:57+00:00</td>\n",
       "      <td>1257691761289330689</td>\n",
       "      <td>RameshK53762424</td>\n",
       "      <td>en</td>\n",
       "      <td>False</td>\n",
       "      <td>True</td>\n",
       "      <td>everyone perishable brahmaloka earth cb</td>\n",
       "      <td></td>\n",
       "    </tr>\n",
       "    <tr>\n",
       "      <td>6636</td>\n",
       "      <td>2020-05-05 17:03:36+00:00</td>\n",
       "      <td>1257717596717105152</td>\n",
       "      <td>ONLYDASSMALIK</td>\n",
       "      <td>en</td>\n",
       "      <td>False</td>\n",
       "      <td>True</td>\n",
       "      <td>children whose fathers intoxicated natural qua...</td>\n",
       "      <td></td>\n",
       "    </tr>\n",
       "    <tr>\n",
       "      <td>7864</td>\n",
       "      <td>2020-05-06 11:15:26+00:00</td>\n",
       "      <td>1257992364964151303</td>\n",
       "      <td>Susansavanah</td>\n",
       "      <td>en</td>\n",
       "      <td>False</td>\n",
       "      <td>False</td>\n",
       "      <td>may pmwhat know masks coronavirus</td>\n",
       "      <td></td>\n",
       "    </tr>\n",
       "  </tbody>\n",
       "</table>\n",
       "</div>"
      ],
      "text/plain": [
       "                    created_at              user_id         username language  \\\n",
       "6662 2020-05-05 17:05:08+00:00  1257717980848365569    Ahibaran__pal       en   \n",
       "2387 2020-05-04 06:22:56+00:00  1257193975909249031       SStretchsg       en   \n",
       "4629 2020-05-05 03:19:35+00:00  1257510226133241857   BrandingInAsia       en   \n",
       "2427 2020-05-04 06:43:01+00:00  1257199030179782656         Ikhmalll       en   \n",
       "6392 2020-05-05 16:11:14+00:00  1257704417567969281       RajuOnkare       en   \n",
       "4553 2020-05-05 02:10:29+00:00  1257492833285500929         nulzzee_       en   \n",
       "3461 2020-05-04 15:43:39+00:00  1257335085763829760     dasi_santosh       en   \n",
       "6066 2020-05-05 15:20:57+00:00  1257691761289330689  RameshK53762424       en   \n",
       "6636 2020-05-05 17:03:36+00:00  1257717596717105152    ONLYDASSMALIK       en   \n",
       "7864 2020-05-06 11:15:26+00:00  1257992364964151303     Susansavanah       en   \n",
       "\n",
       "      is_quote_status  is_retweet_status  \\\n",
       "6662            False               True   \n",
       "2387            False              False   \n",
       "4629            False              False   \n",
       "2427            False               True   \n",
       "6392            False               True   \n",
       "4553            False               True   \n",
       "3461            False               True   \n",
       "6066            False               True   \n",
       "6636            False               True   \n",
       "7864            False              False   \n",
       "\n",
       "                                              full_text quote_text  \n",
       "6662   drinking alcohol sin life drinker never happy cb             \n",
       "2387  week wish dedicate page helping work tirelessl...             \n",
       "4629  covid campaign singapore calls people emerge s...             \n",
       "2427                                          one month             \n",
       "6392         alcohol humans drug turns human monster cb             \n",
       "4553                                          one month             \n",
       "3461  brahma vishnu mahesh immortal also birth death...             \n",
       "6066            everyone perishable brahmaloka earth cb             \n",
       "6636  children whose fathers intoxicated natural qua...             \n",
       "7864                  may pmwhat know masks coronavirus             "
      ]
     },
     "execution_count": 28,
     "metadata": {},
     "output_type": "execute_result"
    }
   ],
   "source": [
    "df_clean.sample(10)"
   ]
  },
  {
   "cell_type": "code",
   "execution_count": 29,
   "metadata": {},
   "outputs": [],
   "source": [
    "#df_clean.to_csv('dataset/data_clean.csv', index = False)\n",
    "df_clean.to_csv('C:/Users/ngwei/Desktop/sgcircuitbreaker.csv', index = False)\n"
   ]
  }
 ],
 "metadata": {
  "kernelspec": {
   "display_name": "Python 3",
   "language": "python",
   "name": "python3"
  },
  "language_info": {
   "codemirror_mode": {
    "name": "ipython",
    "version": 3
   },
   "file_extension": ".py",
   "mimetype": "text/x-python",
   "name": "python",
   "nbconvert_exporter": "python",
   "pygments_lexer": "ipython3",
   "version": "3.7.4"
  }
 },
 "nbformat": 4,
 "nbformat_minor": 4
}
